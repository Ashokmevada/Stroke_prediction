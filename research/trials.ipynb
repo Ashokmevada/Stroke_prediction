{
 "cells": [
  {
   "cell_type": "code",
   "execution_count": 5,
   "metadata": {},
   "outputs": [
    {
     "name": "stdout",
     "output_type": "stream",
     "text": [
      "{'C': 0.1, 'gamma': 0.1, 'kernel': 'linear'}\n",
      "{'C': 0.1, 'gamma': 0.1, 'kernel': 'rbf'}\n",
      "{'C': 0.1, 'gamma': 0.01, 'kernel': 'linear'}\n",
      "{'C': 0.1, 'gamma': 0.01, 'kernel': 'rbf'}\n",
      "{'C': 1, 'gamma': 0.1, 'kernel': 'linear'}\n",
      "{'C': 1, 'gamma': 0.1, 'kernel': 'rbf'}\n",
      "{'C': 1, 'gamma': 0.01, 'kernel': 'linear'}\n",
      "{'C': 1, 'gamma': 0.01, 'kernel': 'rbf'}\n",
      "{'C': 10, 'gamma': 0.1, 'kernel': 'linear'}\n",
      "{'C': 10, 'gamma': 0.1, 'kernel': 'rbf'}\n",
      "{'C': 10, 'gamma': 0.01, 'kernel': 'linear'}\n",
      "{'C': 10, 'gamma': 0.01, 'kernel': 'rbf'}\n",
      "0.96\n",
      "0.9266666666666666\n",
      "0.96\n",
      "0.52\n",
      "0.9933333333333333\n",
      "0.9666666666666667\n",
      "0.9933333333333333\n",
      "0.94\n",
      "0.9733333333333333\n",
      "0.9733333333333333\n",
      "0.9733333333333333\n",
      "0.9666666666666667\n"
     ]
    }
   ],
   "source": [
    "from sklearn.model_selection import GridSearchCV\n",
    "from sklearn.svm import SVC\n",
    "from sklearn.datasets import load_iris\n",
    "\n",
    "# Load the Iris dataset\n",
    "X, y = load_iris(return_X_y=True)\n",
    "\n",
    "# Define the parameter grid\n",
    "param_grid = {\n",
    "    'C': [0.1, 1, 10],\n",
    "    'kernel': ['linear', 'rbf'],\n",
    "    'gamma': [0.1, 0.01],\n",
    "}\n",
    "\n",
    "# Initialize the GridSearchCV\n",
    "grid_search = GridSearchCV(SVC(), param_grid, cv=3)\n",
    "\n",
    "# Fit the GridSearchCV\n",
    "grid_search.fit(X, y)\n",
    "\n",
    "# Access the parameters tried during the grid search\n",
    "params_tried = grid_search.cv_results_['params']\n",
    "\n",
    "# Access the mean test scores\n",
    "mean_test_scores = grid_search.cv_results_['mean_test_score']\n",
    "\n",
    "# Display the parameters tried\n",
    "for params in params_tried:\n",
    "    print(params)\n",
    "\n",
    "# Display the mean test scores\n",
    "for score in mean_test_scores:\n",
    "    print(score)\n"
   ]
  }
 ],
 "metadata": {
  "kernelspec": {
   "display_name": "Python 3",
   "language": "python",
   "name": "python3"
  },
  "language_info": {
   "codemirror_mode": {
    "name": "ipython",
    "version": 3
   },
   "file_extension": ".py",
   "mimetype": "text/x-python",
   "name": "python",
   "nbconvert_exporter": "python",
   "pygments_lexer": "ipython3",
   "version": "3.12.2"
  }
 },
 "nbformat": 4,
 "nbformat_minor": 2
}
